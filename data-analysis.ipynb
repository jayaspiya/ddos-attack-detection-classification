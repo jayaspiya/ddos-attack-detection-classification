{
 "cells": [
  {
   "cell_type": "code",
   "execution_count": 1,
   "metadata": {},
   "outputs": [],
   "source": [
    "import pandas as pd\n",
    "import matplotlib.pyplot as plt\n",
    "import plotly.express as px\n",
    "SOURCE_PATH = 'dataset/dataset_sdn.csv'"
   ]
  },
  {
   "cell_type": "code",
   "execution_count": null,
   "metadata": {},
   "outputs": [],
   "source": [
    "data = pd.read_csv(SOURCE_PATH)\n",
    "offset = 1728929700000\n",
    "data['timestamp'] = pd.to_datetime((data['dt'] * 1000) + offset, unit='ms')\n",
    "data['label'] = data['label'].map({1: 'Malicious', 0: 'Benign'})\n",
    "data.head()"
   ]
  },
  {
   "cell_type": "markdown",
   "metadata": {},
   "source": [
    "# Label Distribution"
   ]
  },
  {
   "cell_type": "code",
   "execution_count": null,
   "metadata": {},
   "outputs": [],
   "source": [
    "df =  data\n",
    "label_counts = df['label'].value_counts().reset_index()\n",
    "label_counts.columns = ['label', 'count']\n",
    "fig = px.pie(label_counts,names='label',values='count',title='Label Distribution')\n",
    "fig.show()"
   ]
  },
  {
   "cell_type": "markdown",
   "metadata": {},
   "source": [
    "# Traffic Volume Over Time"
   ]
  },
  {
   "cell_type": "code",
   "execution_count": null,
   "metadata": {},
   "outputs": [],
   "source": [
    "df =  data\n",
    "df['dt_hour'] = df['timestamp'].dt.floor('H')  # Floors to the nearest hour\n",
    "hourly_traffic = df.groupby('dt_hour').agg({'pktcount': 'sum', 'bytecount': 'sum'}).reset_index()\n",
    "\n",
    "hourly_traffic['bytecount'] = hourly_traffic['bytecount'] / 1024\n",
    "fig = px.line(\n",
    "    hourly_traffic,\n",
    "    x='dt_hour',                # X-axis: time\n",
    "    y=['pktcount', 'bytecount'],  # Y-axis: traffic volume metrics\n",
    "    title='Traffic Volume Over Time',\n",
    "    labels={'value': 'Traffic Volume', 'dt_hour': 'Time'},  # Label for axes\n",
    "    markers=True           # Add markers for data points\n",
    ")\n",
    "\n",
    "fig.update_layout(\n",
    "    legend_title_text='Traffic Metrics',\n",
    "    yaxis_title='Volume',\n",
    "    xaxis_title='Time',\n",
    "    template='plotly'\n",
    ")\n",
    "fig.show()"
   ]
  },
  {
   "cell_type": "markdown",
   "metadata": {},
   "source": [
    "# Packet Rate vs. Byte Rate"
   ]
  },
  {
   "cell_type": "code",
   "execution_count": null,
   "metadata": {},
   "outputs": [],
   "source": [
    "df = data\n",
    "fig = px.scatter(\n",
    "    df,\n",
    "    x='pktrate',            # X-axis: Packet Rate\n",
    "    y='byteperflow',        # Y-axis: Byte per Flow\n",
    "    color='label',          # Color by label (Malicious/Benign)\n",
    "    title='Packet Rate vs. Byte Rate',\n",
    "    labels={'pktrate': 'Packet Rate (pkts/sec)', 'byteperflow': 'Byte Rate (bytes/flow)'},  # Axis labels\n",
    "    hover_data=['label'],   # Display label in the hover information\n",
    ")\n",
    "\n",
    "# Customize the layout\n",
    "fig.update_layout(\n",
    "    xaxis_title='Packet Rate (pkts/sec)',\n",
    "    yaxis_title='Byte Rate (bytes/flow)',\n",
    "    legend_title='Traffic Label',\n",
    "    template='plotly'\n",
    ")\n",
    "\n",
    "# Show the chart\n",
    "fig.show()"
   ]
  },
  {
   "cell_type": "markdown",
   "metadata": {},
   "source": [
    "# Traffic Volume by Ports"
   ]
  },
  {
   "cell_type": "code",
   "execution_count": null,
   "metadata": {},
   "outputs": [],
   "source": [
    "df = data.sort_values(by='bytecount', ascending=False)\n",
    "fig = px.bar(\n",
    "    df,\n",
    "    x='bytecount',         # X-axis: Traffic Volume (Byte Count)\n",
    "    y='port_no',           # Y-axis: Ports\n",
    "    orientation='h',       # Horizontal bar plot\n",
    "    title='Traffic Volume by Ports',\n",
    "    labels={'bytecount': 'Traffic Volume (Bytes)', 'port_no': 'Port Number'},  # Axis labels\n",
    "    text='bytecount'       # Display byte count on the bars\n",
    ")\n",
    "fig.update_layout(\n",
    "    xaxis_title='Traffic Volume (Bytes)',\n",
    "    yaxis_title='Port Number',\n",
    "    template='plotly',\n",
    "    yaxis=dict(type='category'),  # Ensure port numbers are treated as categorical\n",
    ")\n",
    "fig.show()"
   ]
  },
  {
   "cell_type": "code",
   "execution_count": null,
   "metadata": {},
   "outputs": [],
   "source": [
    "# figure(figsize=(12, 7), dpi=80)\n",
    "plt.barh(list(dict(data.src.value_counts()).keys()), dict(data.src.value_counts()).values(), color='lawngreen')\n",
    "\n",
    "for idx, val in enumerate(dict(data.src.value_counts()).values()):\n",
    "    plt.text(x = val, y = idx-0.2, s = str(val), color='r', size = 13)\n",
    "\n",
    "plt.xlabel('Number of Requests')\n",
    "plt.ylabel('IP addres of sender')\n",
    "plt.title('Number of all reqests')"
   ]
  },
  {
   "cell_type": "code",
   "execution_count": null,
   "metadata": {},
   "outputs": [],
   "source": [
    "# figure(figsize=(12, 7), dpi=80)\n",
    "plt.barh(list(dict(data[data.label == 1].src.value_counts()).keys()), dict(data[data.label == 1].src.value_counts()).values(), color='blue')\n",
    "\n",
    "for idx, val in enumerate(dict(data[data.label == 1].src.value_counts()).values()):\n",
    "    plt.text(x = val, y = idx-0.2, s = str(val), color='r', size = 13)\n",
    "\n",
    "plt.xlabel('Number of Requests')\n",
    "plt.ylabel('IP addres of sender')\n",
    "plt.title('Number of Attack requests')"
   ]
  },
  {
   "cell_type": "code",
   "execution_count": null,
   "metadata": {},
   "outputs": [],
   "source": [
    "# figure(figsize=(12, 7), dpi=80)\n",
    "plt.barh(list(dict(data.src.value_counts()).keys()), dict(data.src.value_counts()).values(), color='lawngreen')\n",
    "plt.barh(list(dict(data[data.label == 1].src.value_counts()).keys()), dict(data[data.label == 1].src.value_counts()).values(), color='blue')\n",
    "\n",
    "for idx, val in enumerate(dict(data.src.value_counts()).values()):\n",
    "    plt.text(x = val, y = idx-0.2, s = str(val), color='r', size = 13)\n",
    "\n",
    "for idx, val in enumerate(dict(data[data.label == 1].src.value_counts()).values()):\n",
    "    plt.text(x = val, y = idx-0.2, s = str(val), color='w', size = 13)\n",
    "\n",
    "\n",
    "plt.xlabel('Number of Requests')\n",
    "plt.ylabel('IP addres of sender')\n",
    "plt.legend(['All','malicious'])\n",
    "plt.title('Number of requests from different IP adress')"
   ]
  },
  {
   "cell_type": "code",
   "execution_count": null,
   "metadata": {},
   "outputs": [],
   "source": [
    "# figure(figsize=(10, 6), dpi=80)\n",
    "plt.bar(list(dict(data.Protocol.value_counts()).keys()), dict(data.Protocol.value_counts()).values(), color='r')\n",
    "plt.bar(list(dict(data[data.label == 1].Protocol.value_counts()).keys()), dict(data[data.label == 1].Protocol.value_counts()).values(), color='b')\n",
    "\n",
    "plt.text(x = 0 - 0.15, y = 41321 + 200, s = str(41321), color='black', size=17)\n",
    "plt.text(x = 1 - 0.15, y = 33588 + 200, s = str(33588), color='black', size=17)\n",
    "plt.text(x = 2 - 0.15, y = 29436 + 200, s = str(29436), color='black', size=17)\n",
    "\n",
    "plt.text(x = 0 - 0.15, y = 9419 + 200, s = str(9419), color='w', size=17)\n",
    "plt.text(x = 1 - 0.15, y = 17499 + 200, s = str(17499), color='w', size=17)\n",
    "plt.text(x = 2 - 0.15, y = 13866 + 200, s = str(13866), color='w', size=17)\n",
    "\n",
    "plt.xlabel('Protocol')\n",
    "plt.ylabel('Count')\n",
    "plt.legend(['All', 'malicious'])\n",
    "plt.title('The number of requests from different protocols')"
   ]
  },
  {
   "cell_type": "code",
   "execution_count": null,
   "metadata": {},
   "outputs": [],
   "source": [
    "# tx_bytes, tx_kbps, switch\n",
    "plt.hist(data.dur, bins=20, color='b')\n",
    "plt.title('Duration')\n",
    "plt.show()"
   ]
  },
  {
   "cell_type": "code",
   "execution_count": null,
   "metadata": {},
   "outputs": [],
   "source": [
    "data"
   ]
  },
  {
   "cell_type": "markdown",
   "metadata": {},
   "source": [
    "# Test"
   ]
  }
 ],
 "metadata": {
  "kernelspec": {
   "display_name": "Python 3",
   "language": "python",
   "name": "python3"
  },
  "language_info": {
   "codemirror_mode": {
    "name": "ipython",
    "version": 3
   },
   "file_extension": ".py",
   "mimetype": "text/x-python",
   "name": "python",
   "nbconvert_exporter": "python",
   "pygments_lexer": "ipython3",
   "version": "3.11.9"
  }
 },
 "nbformat": 4,
 "nbformat_minor": 2
}
